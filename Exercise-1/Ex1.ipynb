{
 "cells": [
  {
   "cell_type": "code",
   "execution_count": 1,
   "id": "bdee74c1-23e6-4bab-a99e-377086e9b291",
   "metadata": {},
   "outputs": [
    {
     "name": "stdin",
     "output_type": "stream",
     "text": [
      "How good is ice cream for you? Take 0 as 'crap' and 10 as 'pure awesomeness' 9\n"
     ]
    }
   ],
   "source": [
    "ice_cream_rating = int(input(\"How good is ice cream for you? Take 0 as 'crap' and 10 as 'pure awesomeness'\"))"
   ]
  },
  {
   "cell_type": "code",
   "execution_count": 2,
   "id": "14b84e50-fe77-44d6-abdf-37c523ecc042",
   "metadata": {},
   "outputs": [
    {
     "name": "stdin",
     "output_type": "stream",
     "text": [
      "How good is ice cream for you? Take 0 as 'crap' and 10 as 'pure awesomeness' 10\n"
     ]
    }
   ],
   "source": [
    "sleep_rating = int(input(\"How good is ice cream for you? Take 0 as 'crap' and 10 as 'pure awesomeness'\"))"
   ]
  },
  {
   "cell_type": "code",
   "execution_count": 3,
   "id": "30801536-cbae-4615-95fb-7b724bab54dc",
   "metadata": {
    "tags": []
   },
   "outputs": [
    {
     "name": "stdin",
     "output_type": "stream",
     "text": [
      "Please enter your first name Caro\n",
      "And your last name Byl\n"
     ]
    },
    {
     "name": "stdout",
     "output_type": "stream",
     "text": [
      "Thanks!\n",
      "Caro Byl is your name\n"
     ]
    }
   ],
   "source": [
    "first_name = input(\"Please enter your first name\")\n",
    "last_name = input(\"And your last name\")\n",
    "print(\"Thanks!\")\n",
    "my_name = print(first_name,last_name,\"is your name\")"
   ]
  },
  {
   "cell_type": "code",
   "execution_count": 4,
   "id": "9e686b63-c441-4f5c-8001-ad2da33d323b",
   "metadata": {},
   "outputs": [
    {
     "data": {
      "text/plain": [
       "9.5"
      ]
     },
     "execution_count": 4,
     "metadata": {},
     "output_type": "execute_result"
    }
   ],
   "source": [
    "import statistics as st\n",
    "rate_list=[ice_cream_rating,sleep_rating]\n",
    "happiness_rating = st.mean(rate_list)\n",
    "happiness_rating"
   ]
  },
  {
   "cell_type": "code",
   "execution_count": 5,
   "id": "693562e6-daef-4dcc-81d2-ca0cb962d9b7",
   "metadata": {},
   "outputs": [
    {
     "data": {
      "text/plain": [
       "int"
      ]
     },
     "execution_count": 5,
     "metadata": {},
     "output_type": "execute_result"
    }
   ],
   "source": [
    "type(ice_cream_rating)"
   ]
  },
  {
   "cell_type": "code",
   "execution_count": 6,
   "id": "4848bc14-87ce-4fd8-9892-7f0e3403023e",
   "metadata": {},
   "outputs": [
    {
     "data": {
      "text/plain": [
       "int"
      ]
     },
     "execution_count": 6,
     "metadata": {},
     "output_type": "execute_result"
    }
   ],
   "source": [
    "type(sleep_rating)"
   ]
  },
  {
   "cell_type": "code",
   "execution_count": 7,
   "id": "c174eb8a-73df-4628-bf77-053330aa0bf5",
   "metadata": {},
   "outputs": [
    {
     "data": {
      "text/plain": [
       "float"
      ]
     },
     "execution_count": 7,
     "metadata": {},
     "output_type": "execute_result"
    }
   ],
   "source": [
    "type(happiness_rating)"
   ]
  },
  {
   "cell_type": "code",
   "execution_count": 16,
   "id": "7f1e0ba7-5785-41fa-b240-4cc5eb7e9436",
   "metadata": {},
   "outputs": [
    {
     "name": "stdout",
     "output_type": "stream",
     "text": [
      "My name is Caro Byl and I give eating ice cream a score of 9 out of 10!\n",
      "My sleeping enjoyment rating is 10 / 10!\n",
      "Based on the factors above, my happiness rating is 9.5 out of 10, or 95%!\n"
     ]
    }
   ],
   "source": [
    "\n",
    "\n",
    "print(f\"My name is {first_name} {last_name} and I give eating ice cream a score of {ice_cream_rating} out of 10!\\nMy sleeping enjoyment rating is {sleep_rating} / 10!\\nBased on the factors above, my happiness rating is {happiness_rating} out of 10, or {happiness_rating/10:.0%}!\")\n",
    "\n"
   ]
  }
 ],
 "metadata": {
  "kernelspec": {
   "display_name": "Python 3 (ipykernel)",
   "language": "python",
   "name": "python3"
  },
  "language_info": {
   "codemirror_mode": {
    "name": "ipython",
    "version": 3
   },
   "file_extension": ".py",
   "mimetype": "text/x-python",
   "name": "python",
   "nbconvert_exporter": "python",
   "pygments_lexer": "ipython3",
   "version": "3.10.6"
  }
 },
 "nbformat": 4,
 "nbformat_minor": 5
}
