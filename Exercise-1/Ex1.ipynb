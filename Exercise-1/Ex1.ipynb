{
 "cells": [
  {
   "cell_type": "code",
   "execution_count": 96,
   "id": "bdee74c1-23e6-4bab-a99e-377086e9b291",
   "metadata": {},
   "outputs": [
    {
     "name": "stdin",
     "output_type": "stream",
     "text": [
      "How good is ice cream for you? Take 0 as 'crap' and 10 as 'pure awesomeness' 7\n"
     ]
    }
   ],
   "source": [
    "ice_cream_rating = int(input(\"How good is ice cream for you? Take 0 as 'crap' and 10 as 'pure awesomeness'\"))"
   ]
  },
  {
   "cell_type": "code",
   "execution_count": 98,
   "id": "14b84e50-fe77-44d6-abdf-37c523ecc042",
   "metadata": {},
   "outputs": [
    {
     "name": "stdin",
     "output_type": "stream",
     "text": [
      "How good is ice cream for you? Take 0 as 'crap' and 10 as 'pure awesomeness' 10\n"
     ]
    }
   ],
   "source": [
    "sleep_rating = int(input(\"How good is ice cream for you? Take 0 as 'crap' and 10 as 'pure awesomeness'\"))"
   ]
  },
  {
   "cell_type": "code",
   "execution_count": 90,
   "id": "30801536-cbae-4615-95fb-7b724bab54dc",
   "metadata": {
    "collapsed": true,
    "jupyter": {
     "outputs_hidden": true,
     "source_hidden": true
    },
    "tags": []
   },
   "outputs": [
    {
     "name": "stdin",
     "output_type": "stream",
     "text": [
      "Please enter your first name c\n",
      "And your last name b\n"
     ]
    },
    {
     "name": "stdout",
     "output_type": "stream",
     "text": [
      "Thanks!\n",
      "c b is your name\n"
     ]
    }
   ],
   "source": [
    "first_name = input(\"Please enter your first name\")\n",
    "last_name = input(\"And your last name\")\n",
    "print(\"Thanks!\")\n",
    "my_name = print(first_name,last_name,\"is your name\")"
   ]
  },
  {
   "cell_type": "code",
   "execution_count": 101,
   "id": "9e686b63-c441-4f5c-8001-ad2da33d323b",
   "metadata": {},
   "outputs": [
    {
     "data": {
      "text/plain": [
       "8.5"
      ]
     },
     "execution_count": 101,
     "metadata": {},
     "output_type": "execute_result"
    }
   ],
   "source": [
    "import statistics as st\n",
    "rate_list=[ice_cream_rating,sleep_rating]\n",
    "happiness_rating = st.mean(rate_list)\n",
    "happiness_rating"
   ]
  },
  {
   "cell_type": "code",
   "execution_count": 102,
   "id": "693562e6-daef-4dcc-81d2-ca0cb962d9b7",
   "metadata": {},
   "outputs": [
    {
     "data": {
      "text/plain": [
       "int"
      ]
     },
     "execution_count": 102,
     "metadata": {},
     "output_type": "execute_result"
    }
   ],
   "source": [
    "type(ice_cream_rating)"
   ]
  },
  {
   "cell_type": "code",
   "execution_count": 103,
   "id": "4848bc14-87ce-4fd8-9892-7f0e3403023e",
   "metadata": {},
   "outputs": [
    {
     "data": {
      "text/plain": [
       "int"
      ]
     },
     "execution_count": 103,
     "metadata": {},
     "output_type": "execute_result"
    }
   ],
   "source": [
    "type(sleep_rating)"
   ]
  },
  {
   "cell_type": "code",
   "execution_count": 104,
   "id": "c174eb8a-73df-4628-bf77-053330aa0bf5",
   "metadata": {},
   "outputs": [
    {
     "data": {
      "text/plain": [
       "float"
      ]
     },
     "execution_count": 104,
     "metadata": {},
     "output_type": "execute_result"
    }
   ],
   "source": [
    "type(happiness_rating)"
   ]
  },
  {
   "cell_type": "code",
   "execution_count": null,
   "id": "7f1e0ba7-5785-41fa-b240-4cc5eb7e9436",
   "metadata": {},
   "outputs": [],
   "source": []
  }
 ],
 "metadata": {
  "kernelspec": {
   "display_name": "Python 3 (ipykernel)",
   "language": "python",
   "name": "python3"
  },
  "language_info": {
   "codemirror_mode": {
    "name": "ipython",
    "version": 3
   },
   "file_extension": ".py",
   "mimetype": "text/x-python",
   "name": "python",
   "nbconvert_exporter": "python",
   "pygments_lexer": "ipython3",
   "version": "3.10.6"
  }
 },
 "nbformat": 4,
 "nbformat_minor": 5
}
